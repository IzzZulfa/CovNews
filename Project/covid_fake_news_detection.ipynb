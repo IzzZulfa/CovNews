{
 "cells": [
  {
   "cell_type": "code",
   "execution_count": 1,
   "metadata": {
    "id": "M6DALkgye2hN"
   },
   "outputs": [],
   "source": [
    "import pandas as pd"
   ]
  },
  {
   "cell_type": "code",
   "execution_count": 2,
   "metadata": {
    "id": "t6D4aoY3fEov"
   },
   "outputs": [],
   "source": [
    "true = pd.read_csv(r'C:\\Users\\user\\Downloads\\COVID19-FNIR\\trueNews.csv')"
   ]
  },
  {
   "cell_type": "code",
   "execution_count": 3,
   "metadata": {
    "colab": {
     "base_uri": "https://localhost:8080/",
     "height": 142
    },
    "id": "_T_4joPNfIcf",
    "outputId": "b090a038-a1fc-429b-93e8-23c9f06f206f",
    "scrolled": true
   },
   "outputs": [
    {
     "data": {
      "text/html": [
       "<div>\n",
       "<style scoped>\n",
       "    .dataframe tbody tr th:only-of-type {\n",
       "        vertical-align: middle;\n",
       "    }\n",
       "\n",
       "    .dataframe tbody tr th {\n",
       "        vertical-align: top;\n",
       "    }\n",
       "\n",
       "    .dataframe thead th {\n",
       "        text-align: right;\n",
       "    }\n",
       "</style>\n",
       "<table border=\"1\" class=\"dataframe\">\n",
       "  <thead>\n",
       "    <tr style=\"text-align: right;\">\n",
       "      <th></th>\n",
       "      <th>ID</th>\n",
       "      <th>text</th>\n",
       "      <th>label</th>\n",
       "      <th>origin</th>\n",
       "    </tr>\n",
       "  </thead>\n",
       "  <tbody>\n",
       "    <tr>\n",
       "      <td>0</td>\n",
       "      <td>1</td>\n",
       "      <td>EU must go 'back to the future' of open border...</td>\n",
       "      <td>REAL</td>\n",
       "      <td>https://twitter.com/the_hindu/status/122725962...</td>\n",
       "    </tr>\n",
       "    <tr>\n",
       "      <td>1</td>\n",
       "      <td>3</td>\n",
       "      <td>The boy is the resident of Gurugram's Palam Vi...</td>\n",
       "      <td>REAL</td>\n",
       "      <td>https://twitter.com/ndtv/status/12274908434742...</td>\n",
       "    </tr>\n",
       "    <tr>\n",
       "      <td>2</td>\n",
       "      <td>4</td>\n",
       "      <td>The proposal came after the Centre on Saturday...</td>\n",
       "      <td>REAL</td>\n",
       "      <td>https://twitter.com/the_hindu/status/122744471...</td>\n",
       "    </tr>\n",
       "  </tbody>\n",
       "</table>\n",
       "</div>"
      ],
      "text/plain": [
       "   ID                                               text label  \\\n",
       "0   1  EU must go 'back to the future' of open border...  REAL   \n",
       "1   3  The boy is the resident of Gurugram's Palam Vi...  REAL   \n",
       "2   4  The proposal came after the Centre on Saturday...  REAL   \n",
       "\n",
       "                                              origin  \n",
       "0  https://twitter.com/the_hindu/status/122725962...  \n",
       "1  https://twitter.com/ndtv/status/12274908434742...  \n",
       "2  https://twitter.com/the_hindu/status/122744471...  "
      ]
     },
     "execution_count": 3,
     "metadata": {},
     "output_type": "execute_result"
    }
   ],
   "source": [
    "true.head(3)"
   ]
  },
  {
   "cell_type": "code",
   "execution_count": 4,
   "metadata": {
    "colab": {
     "base_uri": "https://localhost:8080/"
    },
    "id": "3khrStRBfLHX",
    "outputId": "7aef1a40-9846-4e9b-d4e5-853d30cefe93"
   },
   "outputs": [
    {
     "data": {
      "text/plain": [
       "(3793, 4)"
      ]
     },
     "execution_count": 4,
     "metadata": {},
     "output_type": "execute_result"
    }
   ],
   "source": [
    "true.shape"
   ]
  },
  {
   "cell_type": "code",
   "execution_count": 5,
   "metadata": {
    "colab": {
     "base_uri": "https://localhost:8080/"
    },
    "id": "FAPMr3CigM7E",
    "outputId": "c704cd3d-b723-4209-eb35-0afd74c64ca3"
   },
   "outputs": [
    {
     "data": {
      "text/plain": [
       "(3795, 4)"
      ]
     },
     "execution_count": 5,
     "metadata": {},
     "output_type": "execute_result"
    }
   ],
   "source": [
    "fake = pd.read_csv(r'C:\\Users\\user\\Downloads\\COVID19-FNIR\\fakeNews.csv')\n",
    "fake.shape"
   ]
  },
  {
   "cell_type": "code",
   "execution_count": 6,
   "metadata": {},
   "outputs": [
    {
     "data": {
      "text/html": [
       "<div>\n",
       "<style scoped>\n",
       "    .dataframe tbody tr th:only-of-type {\n",
       "        vertical-align: middle;\n",
       "    }\n",
       "\n",
       "    .dataframe tbody tr th {\n",
       "        vertical-align: top;\n",
       "    }\n",
       "\n",
       "    .dataframe thead th {\n",
       "        text-align: right;\n",
       "    }\n",
       "</style>\n",
       "<table border=\"1\" class=\"dataframe\">\n",
       "  <thead>\n",
       "    <tr style=\"text-align: right;\">\n",
       "      <th></th>\n",
       "      <th>ID</th>\n",
       "      <th>text</th>\n",
       "      <th>label</th>\n",
       "      <th>origin</th>\n",
       "    </tr>\n",
       "  </thead>\n",
       "  <tbody>\n",
       "    <tr>\n",
       "      <td>0</td>\n",
       "      <td>2</td>\n",
       "      <td>\"The new Dane County lockdown policy... (has)...</td>\n",
       "      <td>FAKE</td>\n",
       "      <td>https://www.poynter.org/?ifcn_misinformation=t...</td>\n",
       "    </tr>\n",
       "    <tr>\n",
       "      <td>1</td>\n",
       "      <td>7</td>\n",
       "      <td>Indian politician Uddhav Thackeray has asked ...</td>\n",
       "      <td>FAKE</td>\n",
       "      <td>https://www.poynter.org/?ifcn_misinformation=t...</td>\n",
       "    </tr>\n",
       "    <tr>\n",
       "      <td>2</td>\n",
       "      <td>10</td>\n",
       "      <td>A widely shared video in which the doctor ?n...</td>\n",
       "      <td>FAKE</td>\n",
       "      <td>https://www.poynter.org/?ifcn_misinformation=t...</td>\n",
       "    </tr>\n",
       "  </tbody>\n",
       "</table>\n",
       "</div>"
      ],
      "text/plain": [
       "   ID                                               text label  \\\n",
       "0   2   \"The new Dane County lockdown policy... (has)...  FAKE   \n",
       "1   7   Indian politician Uddhav Thackeray has asked ...  FAKE   \n",
       "2  10   A widely shared video in which the doctor ?n...  FAKE   \n",
       "\n",
       "                                              origin  \n",
       "0  https://www.poynter.org/?ifcn_misinformation=t...  \n",
       "1  https://www.poynter.org/?ifcn_misinformation=t...  \n",
       "2  https://www.poynter.org/?ifcn_misinformation=t...  "
      ]
     },
     "execution_count": 6,
     "metadata": {},
     "output_type": "execute_result"
    }
   ],
   "source": [
    "fake.head(3)"
   ]
  },
  {
   "cell_type": "code",
   "execution_count": 7,
   "metadata": {
    "id": "kkARsSy-gSjS"
   },
   "outputs": [],
   "source": [
    "true['label'] = 1\n",
    "fake['label'] = 0"
   ]
  },
  {
   "cell_type": "code",
   "execution_count": 8,
   "metadata": {
    "id": "9PvhgGxyglE-"
   },
   "outputs": [],
   "source": [
    "# Use the the first 5000 data of true and fake dataset for building the model.\n",
    "frames = [true.loc[:5000][:], fake.loc[:5000][:]]"
   ]
  },
  {
   "cell_type": "code",
   "execution_count": 9,
   "metadata": {
    "id": "HzsFlCAOg6Lr"
   },
   "outputs": [],
   "source": [
    "df = pd.concat(frames)"
   ]
  },
  {
   "cell_type": "code",
   "execution_count": 10,
   "metadata": {
    "colab": {
     "base_uri": "https://localhost:8080/"
    },
    "id": "8TDZywiIhBh6",
    "outputId": "597a2319-bcc8-4bc0-c103-1231548ab2bb"
   },
   "outputs": [
    {
     "data": {
      "text/plain": [
       "(7588, 4)"
      ]
     },
     "execution_count": 10,
     "metadata": {},
     "output_type": "execute_result"
    }
   ],
   "source": [
    "df.shape"
   ]
  },
  {
   "cell_type": "code",
   "execution_count": 11,
   "metadata": {
    "colab": {
     "base_uri": "https://localhost:8080/",
     "height": 204
    },
    "id": "M6sr_V0DhDqX",
    "outputId": "be9196c9-c11b-4e50-a607-3751960fbdeb"
   },
   "outputs": [
    {
     "data": {
      "text/html": [
       "<div>\n",
       "<style scoped>\n",
       "    .dataframe tbody tr th:only-of-type {\n",
       "        vertical-align: middle;\n",
       "    }\n",
       "\n",
       "    .dataframe tbody tr th {\n",
       "        vertical-align: top;\n",
       "    }\n",
       "\n",
       "    .dataframe thead th {\n",
       "        text-align: right;\n",
       "    }\n",
       "</style>\n",
       "<table border=\"1\" class=\"dataframe\">\n",
       "  <thead>\n",
       "    <tr style=\"text-align: right;\">\n",
       "      <th></th>\n",
       "      <th>ID</th>\n",
       "      <th>text</th>\n",
       "      <th>label</th>\n",
       "      <th>origin</th>\n",
       "    </tr>\n",
       "  </thead>\n",
       "  <tbody>\n",
       "    <tr>\n",
       "      <td>3790</td>\n",
       "      <td>6311</td>\n",
       "      <td>People are panicked about a COVID-19 case at ...</td>\n",
       "      <td>0</td>\n",
       "      <td>https://www.poynter.org/?ifcn_misinformation=b...</td>\n",
       "    </tr>\n",
       "    <tr>\n",
       "      <td>3791</td>\n",
       "      <td>6312</td>\n",
       "      <td>Indian ministry of Tourism orders closure of ...</td>\n",
       "      <td>0</td>\n",
       "      <td>https://www.poynter.org/?ifcn_misinformation=c...</td>\n",
       "    </tr>\n",
       "    <tr>\n",
       "      <td>3792</td>\n",
       "      <td>6313</td>\n",
       "      <td>5,000 kilos of masks have not been delivered ...</td>\n",
       "      <td>0</td>\n",
       "      <td>https://www.poynter.org/?ifcn_misinformation=a...</td>\n",
       "    </tr>\n",
       "    <tr>\n",
       "      <td>3793</td>\n",
       "      <td>6314</td>\n",
       "      <td>Every U.S. election year has a disease outbre...</td>\n",
       "      <td>0</td>\n",
       "      <td>https://www.poynter.org/?ifcn_misinformation=a...</td>\n",
       "    </tr>\n",
       "    <tr>\n",
       "      <td>3794</td>\n",
       "      <td>6315</td>\n",
       "      <td>Irish news organisations are organising a col...</td>\n",
       "      <td>0</td>\n",
       "      <td>https://www.poynter.org/?ifcn_misinformation=t...</td>\n",
       "    </tr>\n",
       "  </tbody>\n",
       "</table>\n",
       "</div>"
      ],
      "text/plain": [
       "        ID                                               text  label  \\\n",
       "3790  6311   People are panicked about a COVID-19 case at ...      0   \n",
       "3791  6312   Indian ministry of Tourism orders closure of ...      0   \n",
       "3792  6313   5,000 kilos of masks have not been delivered ...      0   \n",
       "3793  6314   Every U.S. election year has a disease outbre...      0   \n",
       "3794  6315   Irish news organisations are organising a col...      0   \n",
       "\n",
       "                                                 origin  \n",
       "3790  https://www.poynter.org/?ifcn_misinformation=b...  \n",
       "3791  https://www.poynter.org/?ifcn_misinformation=c...  \n",
       "3792  https://www.poynter.org/?ifcn_misinformation=a...  \n",
       "3793  https://www.poynter.org/?ifcn_misinformation=a...  \n",
       "3794  https://www.poynter.org/?ifcn_misinformation=t...  "
      ]
     },
     "execution_count": 11,
     "metadata": {},
     "output_type": "execute_result"
    }
   ],
   "source": [
    "df.tail()"
   ]
  },
  {
   "cell_type": "code",
   "execution_count": 12,
   "metadata": {
    "id": "rNmdNyeChPbZ"
   },
   "outputs": [],
   "source": [
    "X = df. drop('label', axis=1)\n",
    "y = df['label']"
   ]
  },
  {
   "cell_type": "code",
   "execution_count": 13,
   "metadata": {
    "id": "HoVBt4KLhc1h"
   },
   "outputs": [],
   "source": [
    "df = df.dropna()\n",
    "df2 = df.copy()"
   ]
  },
  {
   "cell_type": "code",
   "execution_count": 14,
   "metadata": {
    "colab": {
     "base_uri": "https://localhost:8080/",
     "height": 204
    },
    "id": "H1lgvbDwhisy",
    "outputId": "1245aaf5-7913-4bf5-8927-0e39cc96fba2"
   },
   "outputs": [
    {
     "data": {
      "text/html": [
       "<div>\n",
       "<style scoped>\n",
       "    .dataframe tbody tr th:only-of-type {\n",
       "        vertical-align: middle;\n",
       "    }\n",
       "\n",
       "    .dataframe tbody tr th {\n",
       "        vertical-align: top;\n",
       "    }\n",
       "\n",
       "    .dataframe thead th {\n",
       "        text-align: right;\n",
       "    }\n",
       "</style>\n",
       "<table border=\"1\" class=\"dataframe\">\n",
       "  <thead>\n",
       "    <tr style=\"text-align: right;\">\n",
       "      <th></th>\n",
       "      <th>ID</th>\n",
       "      <th>text</th>\n",
       "      <th>label</th>\n",
       "      <th>origin</th>\n",
       "    </tr>\n",
       "  </thead>\n",
       "  <tbody>\n",
       "    <tr>\n",
       "      <td>0</td>\n",
       "      <td>1</td>\n",
       "      <td>EU must go 'back to the future' of open border...</td>\n",
       "      <td>1</td>\n",
       "      <td>https://twitter.com/the_hindu/status/122725962...</td>\n",
       "    </tr>\n",
       "    <tr>\n",
       "      <td>1</td>\n",
       "      <td>3</td>\n",
       "      <td>The boy is the resident of Gurugram's Palam Vi...</td>\n",
       "      <td>1</td>\n",
       "      <td>https://twitter.com/ndtv/status/12274908434742...</td>\n",
       "    </tr>\n",
       "    <tr>\n",
       "      <td>2</td>\n",
       "      <td>4</td>\n",
       "      <td>The proposal came after the Centre on Saturday...</td>\n",
       "      <td>1</td>\n",
       "      <td>https://twitter.com/the_hindu/status/122744471...</td>\n",
       "    </tr>\n",
       "    <tr>\n",
       "      <td>3</td>\n",
       "      <td>5</td>\n",
       "      <td>UK's COVID-19 death toll tops 40,000, worst in...</td>\n",
       "      <td>1</td>\n",
       "      <td>https://twitter.com/IndiaToday/status/12282764...</td>\n",
       "    </tr>\n",
       "    <tr>\n",
       "      <td>4</td>\n",
       "      <td>6</td>\n",
       "      <td>#JammuAndKashmir | According to an administrat...</td>\n",
       "      <td>1</td>\n",
       "      <td>https://twitter.com/the_hindu/status/122854247...</td>\n",
       "    </tr>\n",
       "  </tbody>\n",
       "</table>\n",
       "</div>"
      ],
      "text/plain": [
       "   ID                                               text  label  \\\n",
       "0   1  EU must go 'back to the future' of open border...      1   \n",
       "1   3  The boy is the resident of Gurugram's Palam Vi...      1   \n",
       "2   4  The proposal came after the Centre on Saturday...      1   \n",
       "3   5  UK's COVID-19 death toll tops 40,000, worst in...      1   \n",
       "4   6  #JammuAndKashmir | According to an administrat...      1   \n",
       "\n",
       "                                              origin  \n",
       "0  https://twitter.com/the_hindu/status/122725962...  \n",
       "1  https://twitter.com/ndtv/status/12274908434742...  \n",
       "2  https://twitter.com/the_hindu/status/122744471...  \n",
       "3  https://twitter.com/IndiaToday/status/12282764...  \n",
       "4  https://twitter.com/the_hindu/status/122854247...  "
      ]
     },
     "execution_count": 14,
     "metadata": {},
     "output_type": "execute_result"
    }
   ],
   "source": [
    "df2.head()"
   ]
  },
  {
   "cell_type": "code",
   "execution_count": 15,
   "metadata": {
    "colab": {
     "base_uri": "https://localhost:8080/",
     "height": 204
    },
    "id": "pAhZo94Lhtnm",
    "outputId": "9177199e-358a-4508-b674-a65586fdcb19"
   },
   "outputs": [
    {
     "data": {
      "text/html": [
       "<div>\n",
       "<style scoped>\n",
       "    .dataframe tbody tr th:only-of-type {\n",
       "        vertical-align: middle;\n",
       "    }\n",
       "\n",
       "    .dataframe tbody tr th {\n",
       "        vertical-align: top;\n",
       "    }\n",
       "\n",
       "    .dataframe thead th {\n",
       "        text-align: right;\n",
       "    }\n",
       "</style>\n",
       "<table border=\"1\" class=\"dataframe\">\n",
       "  <thead>\n",
       "    <tr style=\"text-align: right;\">\n",
       "      <th></th>\n",
       "      <th>index</th>\n",
       "      <th>ID</th>\n",
       "      <th>text</th>\n",
       "      <th>label</th>\n",
       "      <th>origin</th>\n",
       "    </tr>\n",
       "  </thead>\n",
       "  <tbody>\n",
       "    <tr>\n",
       "      <td>0</td>\n",
       "      <td>0</td>\n",
       "      <td>1</td>\n",
       "      <td>EU must go 'back to the future' of open border...</td>\n",
       "      <td>1</td>\n",
       "      <td>https://twitter.com/the_hindu/status/122725962...</td>\n",
       "    </tr>\n",
       "    <tr>\n",
       "      <td>1</td>\n",
       "      <td>1</td>\n",
       "      <td>3</td>\n",
       "      <td>The boy is the resident of Gurugram's Palam Vi...</td>\n",
       "      <td>1</td>\n",
       "      <td>https://twitter.com/ndtv/status/12274908434742...</td>\n",
       "    </tr>\n",
       "    <tr>\n",
       "      <td>2</td>\n",
       "      <td>2</td>\n",
       "      <td>4</td>\n",
       "      <td>The proposal came after the Centre on Saturday...</td>\n",
       "      <td>1</td>\n",
       "      <td>https://twitter.com/the_hindu/status/122744471...</td>\n",
       "    </tr>\n",
       "    <tr>\n",
       "      <td>3</td>\n",
       "      <td>3</td>\n",
       "      <td>5</td>\n",
       "      <td>UK's COVID-19 death toll tops 40,000, worst in...</td>\n",
       "      <td>1</td>\n",
       "      <td>https://twitter.com/IndiaToday/status/12282764...</td>\n",
       "    </tr>\n",
       "    <tr>\n",
       "      <td>4</td>\n",
       "      <td>4</td>\n",
       "      <td>6</td>\n",
       "      <td>#JammuAndKashmir | According to an administrat...</td>\n",
       "      <td>1</td>\n",
       "      <td>https://twitter.com/the_hindu/status/122854247...</td>\n",
       "    </tr>\n",
       "  </tbody>\n",
       "</table>\n",
       "</div>"
      ],
      "text/plain": [
       "   index  ID                                               text  label  \\\n",
       "0      0   1  EU must go 'back to the future' of open border...      1   \n",
       "1      1   3  The boy is the resident of Gurugram's Palam Vi...      1   \n",
       "2      2   4  The proposal came after the Centre on Saturday...      1   \n",
       "3      3   5  UK's COVID-19 death toll tops 40,000, worst in...      1   \n",
       "4      4   6  #JammuAndKashmir | According to an administrat...      1   \n",
       "\n",
       "                                              origin  \n",
       "0  https://twitter.com/the_hindu/status/122725962...  \n",
       "1  https://twitter.com/ndtv/status/12274908434742...  \n",
       "2  https://twitter.com/the_hindu/status/122744471...  \n",
       "3  https://twitter.com/IndiaToday/status/12282764...  \n",
       "4  https://twitter.com/the_hindu/status/122854247...  "
      ]
     },
     "execution_count": 15,
     "metadata": {},
     "output_type": "execute_result"
    }
   ],
   "source": [
    "df2.reset_index(inplace=True)\n",
    "df2.head()"
   ]
  },
  {
   "cell_type": "code",
   "execution_count": 39,
   "metadata": {},
   "outputs": [
    {
     "data": {
      "text/html": [
       "<div>\n",
       "<style scoped>\n",
       "    .dataframe tbody tr th:only-of-type {\n",
       "        vertical-align: middle;\n",
       "    }\n",
       "\n",
       "    .dataframe tbody tr th {\n",
       "        vertical-align: top;\n",
       "    }\n",
       "\n",
       "    .dataframe thead th {\n",
       "        text-align: right;\n",
       "    }\n",
       "</style>\n",
       "<table border=\"1\" class=\"dataframe\">\n",
       "  <thead>\n",
       "    <tr style=\"text-align: right;\">\n",
       "      <th></th>\n",
       "      <th>index</th>\n",
       "      <th>ID</th>\n",
       "      <th>text</th>\n",
       "      <th>label</th>\n",
       "      <th>origin</th>\n",
       "    </tr>\n",
       "  </thead>\n",
       "  <tbody>\n",
       "    <tr>\n",
       "      <td>7583</td>\n",
       "      <td>3790</td>\n",
       "      <td>6311</td>\n",
       "      <td>People are panicked about a COVID-19 case at ...</td>\n",
       "      <td>0</td>\n",
       "      <td>https://www.poynter.org/?ifcn_misinformation=b...</td>\n",
       "    </tr>\n",
       "    <tr>\n",
       "      <td>7584</td>\n",
       "      <td>3791</td>\n",
       "      <td>6312</td>\n",
       "      <td>Indian ministry of Tourism orders closure of ...</td>\n",
       "      <td>0</td>\n",
       "      <td>https://www.poynter.org/?ifcn_misinformation=c...</td>\n",
       "    </tr>\n",
       "    <tr>\n",
       "      <td>7585</td>\n",
       "      <td>3792</td>\n",
       "      <td>6313</td>\n",
       "      <td>5,000 kilos of masks have not been delivered ...</td>\n",
       "      <td>0</td>\n",
       "      <td>https://www.poynter.org/?ifcn_misinformation=a...</td>\n",
       "    </tr>\n",
       "    <tr>\n",
       "      <td>7586</td>\n",
       "      <td>3793</td>\n",
       "      <td>6314</td>\n",
       "      <td>Every U.S. election year has a disease outbre...</td>\n",
       "      <td>0</td>\n",
       "      <td>https://www.poynter.org/?ifcn_misinformation=a...</td>\n",
       "    </tr>\n",
       "    <tr>\n",
       "      <td>7587</td>\n",
       "      <td>3794</td>\n",
       "      <td>6315</td>\n",
       "      <td>Irish news organisations are organising a col...</td>\n",
       "      <td>0</td>\n",
       "      <td>https://www.poynter.org/?ifcn_misinformation=t...</td>\n",
       "    </tr>\n",
       "  </tbody>\n",
       "</table>\n",
       "</div>"
      ],
      "text/plain": [
       "      index    ID                                               text  label  \\\n",
       "7583   3790  6311   People are panicked about a COVID-19 case at ...      0   \n",
       "7584   3791  6312   Indian ministry of Tourism orders closure of ...      0   \n",
       "7585   3792  6313   5,000 kilos of masks have not been delivered ...      0   \n",
       "7586   3793  6314   Every U.S. election year has a disease outbre...      0   \n",
       "7587   3794  6315   Irish news organisations are organising a col...      0   \n",
       "\n",
       "                                                 origin  \n",
       "7583  https://www.poynter.org/?ifcn_misinformation=b...  \n",
       "7584  https://www.poynter.org/?ifcn_misinformation=c...  \n",
       "7585  https://www.poynter.org/?ifcn_misinformation=a...  \n",
       "7586  https://www.poynter.org/?ifcn_misinformation=a...  \n",
       "7587  https://www.poynter.org/?ifcn_misinformation=t...  "
      ]
     },
     "execution_count": 39,
     "metadata": {},
     "output_type": "execute_result"
    }
   ],
   "source": [
    "df2.tail()"
   ]
  },
  {
   "cell_type": "code",
   "execution_count": 16,
   "metadata": {
    "colab": {
     "base_uri": "https://localhost:8080/",
     "height": 35
    },
    "id": "TFAtm5yFiL9f",
    "outputId": "cab93e6e-972a-448b-ae5a-88914137e5a3"
   },
   "outputs": [
    {
     "data": {
      "text/plain": [
       "'https://twitter.com/the_hindu/status/1227444718243602432'"
      ]
     },
     "execution_count": 16,
     "metadata": {},
     "output_type": "execute_result"
    }
   ],
   "source": [
    "df2['origin'][2]"
   ]
  },
  {
   "cell_type": "markdown",
   "metadata": {
    "id": "JXfB-zHbigwN"
   },
   "source": [
    "**Data Preprocessing**"
   ]
  },
  {
   "cell_type": "code",
   "execution_count": 17,
   "metadata": {
    "id": "19d8aVpIiZDq"
   },
   "outputs": [],
   "source": [
    "from nltk.corpus import stopwords\n",
    "from nltk.stem.porter import PorterStemmer\n",
    "ps = PorterStemmer()"
   ]
  },
  {
   "cell_type": "code",
   "execution_count": 18,
   "metadata": {
    "colab": {
     "base_uri": "https://localhost:8080/"
    },
    "id": "xY4vg7yDipqH",
    "outputId": "fd600cd3-3f65-4550-e574-5fae3742a80b"
   },
   "outputs": [
    {
     "name": "stderr",
     "output_type": "stream",
     "text": [
      "[nltk_data] Downloading package stopwords to\n",
      "[nltk_data]     C:\\Users\\user\\AppData\\Roaming\\nltk_data...\n",
      "[nltk_data]   Package stopwords is already up-to-date!\n"
     ]
    }
   ],
   "source": [
    "import re\n",
    "import nltk\n",
    "nltk.download('stopwords')\n",
    "\n",
    "corpus = []\n",
    "for i in range(0, len(df2)):\n",
    "    review = re.sub('[^a-zA-Z]', ' ', df2['text'][i])\n",
    "    review = review.lower()\n",
    "    review = review.split()\n",
    "    \n",
    "    review = [ps.stem(word) for word in review if not word in stopwords.words('english')]\n",
    "    review = ' '.join(review)\n",
    "    corpus.append(review)"
   ]
  },
  {
   "cell_type": "code",
   "execution_count": 19,
   "metadata": {
    "id": "-diLCW7zi7IQ"
   },
   "outputs": [],
   "source": [
    "# TFidf Vectorizer\n",
    "from sklearn.feature_extraction.text import TfidfVectorizer\n",
    "tfidf_v = TfidfVectorizer(max_features=5000, ngram_range=(1,3))"
   ]
  },
  {
   "cell_type": "code",
   "execution_count": 20,
   "metadata": {
    "id": "zZ3JpNcHjEod"
   },
   "outputs": [],
   "source": [
    "X = tfidf_v.fit_transform(corpus).toarray()\n",
    "y = df2['label']"
   ]
  },
  {
   "cell_type": "code",
   "execution_count": 21,
   "metadata": {
    "id": "02XrVJFijLjG"
   },
   "outputs": [],
   "source": [
    "# Divide the dataset into Train and Test\n",
    "from sklearn.model_selection import train_test_split\n",
    "X_train, X_test, y_train, y_test = train_test_split(X, y, test_size=0.2, random_state=0)"
   ]
  },
  {
   "cell_type": "markdown",
   "metadata": {
    "id": "8AE_JbEvliKs"
   },
   "source": [
    "**Model building - Passive Aggresive Classifier**"
   ]
  },
  {
   "cell_type": "code",
   "execution_count": 22,
   "metadata": {
    "id": "bVMM9sKKlh1B"
   },
   "outputs": [],
   "source": [
    "from sklearn.linear_model import PassiveAggressiveClassifier\n",
    "passiveAgg = PassiveAggressiveClassifier(max_iter=8000)"
   ]
  },
  {
   "cell_type": "code",
   "execution_count": 23,
   "metadata": {},
   "outputs": [
    {
     "name": "stdout",
     "output_type": "stream",
     "text": [
      "accuracy:   0.9928\n",
      "ROC-AUC :   0.9927\n"
     ]
    }
   ],
   "source": [
    "from sklearn import metrics\n",
    "import numpy as np\n",
    "import itertools\n",
    "from sklearn.metrics import roc_auc_score\n",
    "\n",
    "passiveAgg.fit(X_train, y_train)\n",
    "\n",
    "pred = passiveAgg.predict(X_test)\n",
    "\n",
    "score = metrics.accuracy_score(y_test, pred)\n",
    "print(\"accuracy:   %0.4f\" % score)\n",
    "\n",
    "roc = roc_auc_score(y_test, pred)\n",
    "print(\"ROC-AUC :   %0.4f\" % roc)\n"
   ]
  },
  {
   "cell_type": "code",
   "execution_count": 24,
   "metadata": {},
   "outputs": [
    {
     "name": "stdout",
     "output_type": "stream",
     "text": [
      "accuracy:   0.9888\n",
      "ROC-AUC :   0.9888\n"
     ]
    }
   ],
   "source": [
    "from sklearn.tree import DecisionTreeClassifier\n",
    "decisionTree = DecisionTreeClassifier()\n",
    "\n",
    "decisionTree.fit(X_train, y_train)\n",
    "\n",
    "pred = decisionTree.predict(X_test)\n",
    "\n",
    "score = metrics.accuracy_score(y_test, pred)\n",
    "print(\"accuracy:   %0.4f\" % score)\n",
    "\n",
    "roc = roc_auc_score(y_test, pred)\n",
    "print(\"ROC-AUC :   %0.4f\" % roc)\n"
   ]
  },
  {
   "cell_type": "code",
   "execution_count": 25,
   "metadata": {},
   "outputs": [
    {
     "name": "stdout",
     "output_type": "stream",
     "text": [
      "accuracy:   0.9835\n",
      "ROC-AUC :   0.9837\n"
     ]
    }
   ],
   "source": [
    "from sklearn.naive_bayes import MultinomialNB\n",
    "multinominalNB = MultinomialNB()\n",
    "\n",
    "multinominalNB.fit(X_train, y_train)\n",
    "\n",
    "pred = multinominalNB.predict(X_test)\n",
    "\n",
    "score = metrics.accuracy_score(y_test, pred)\n",
    "print(\"accuracy:   %0.4f\" % score)\n",
    "\n",
    "roc = roc_auc_score(y_test, pred)\n",
    "print(\"ROC-AUC :   %0.4f\" % roc)"
   ]
  },
  {
   "cell_type": "code",
   "execution_count": 26,
   "metadata": {},
   "outputs": [
    {
     "name": "stdout",
     "output_type": "stream",
     "text": [
      "accuracy:   0.9895\n",
      "ROC-AUC:   0.9892\n"
     ]
    }
   ],
   "source": [
    "from sklearn.ensemble import RandomForestClassifier\n",
    "randomForest = RandomForestClassifier(n_estimators=100)\n",
    "\n",
    "randomForest.fit(X_train, y_train)\n",
    "\n",
    "pred = randomForest.predict(X_test)\n",
    "\n",
    "accuracy = metrics.accuracy_score(y_test, pred)\n",
    "print(\"accuracy:   %0.4f\" % accuracy)\n",
    "\n",
    "roc = roc_auc_score(y_test, pred)\n",
    "print(\"ROC-AUC:   %0.4f\" % roc)"
   ]
  },
  {
   "cell_type": "code",
   "execution_count": null,
   "metadata": {},
   "outputs": [],
   "source": []
  },
  {
   "cell_type": "code",
   "execution_count": null,
   "metadata": {},
   "outputs": [],
   "source": []
  },
  {
   "cell_type": "code",
   "execution_count": 27,
   "metadata": {
    "id": "KNbg5jEylraS"
   },
   "outputs": [],
   "source": [
    "import matplotlib.pyplot as plt\n",
    "\n",
    "def plot_confusion_matrix(cm, classes,\n",
    "                          normalize=False,\n",
    "                          title='Confusion matrix',\n",
    "                          cmap=plt.cm.Blues):\n",
    "    \"\"\"\n",
    "    See full source and example: \n",
    "    http://scikit-learn.org/stable/auto_examples/model_selection/plot_confusion_matrix.html\n",
    "    \n",
    "    This function prints and plots the confusion matrix.\n",
    "    Normalization can be applied by setting `normalize=True`.\n",
    "    \"\"\"\n",
    "    plt.imshow(cm, interpolation='nearest', cmap=cmap)\n",
    "    plt.title(title)\n",
    "    plt.colorbar()\n",
    "    tick_marks = np.arange(len(classes))\n",
    "    plt.xticks(tick_marks, classes, rotation=45)\n",
    "    plt.yticks(tick_marks, classes)\n",
    "\n",
    "    if normalize:\n",
    "        cm = cm.astype('float') / cm.sum(axis=1)[:, np.newaxis]\n",
    "        print(\"Normalized confusion matrix\")\n",
    "    else:\n",
    "        print('Confusion matrix, without normalization')\n",
    "\n",
    "    thresh = cm.max() / 2.\n",
    "    for i, j in itertools.product(range(cm.shape[0]), range(cm.shape[1])):\n",
    "        plt.text(j, i, cm[i, j],\n",
    "                 horizontalalignment=\"center\",\n",
    "                 color=\"white\" if cm[i, j] > thresh else \"black\")\n",
    "\n",
    "    plt.tight_layout()\n",
    "    plt.ylim([1.5, -.5])\n",
    "    plt.ylabel('True label')\n",
    "    plt.xlabel('Predicted label')"
   ]
  },
  {
   "cell_type": "code",
   "execution_count": 28,
   "metadata": {
    "colab": {
     "base_uri": "https://localhost:8080/",
     "height": 328
    },
    "id": "f8j7Jfe1mpik",
    "outputId": "5c129909-3a2a-499f-a0a6-066db39853ff"
   },
   "outputs": [
    {
     "name": "stdout",
     "output_type": "stream",
     "text": [
      "Confusion matrix, without normalization\n"
     ]
    },
    {
     "data": {
      "image/png": "[encoded data removed]",
      "text/plain": [
       "<Figure size 432x288 with 2 Axes>"
      ]
     },
     "metadata": {
      "needs_background": "light"
     },
     "output_type": "display_data"
    }
   ],
   "source": [
    "cm = metrics.confusion_matrix(y_test, pred)\n",
    "plot_confusion_matrix(cm, classes=['FAKE', 'REAL'])"
   ]
  },
  {
   "cell_type": "markdown",
   "metadata": {
    "id": "EurXkuQ8mwTv"
   },
   "source": [
    "**Validate on an unseen datapoint**"
   ]
  },
  {
   "cell_type": "code",
   "execution_count": 29,
   "metadata": {
    "colab": {
     "base_uri": "https://localhost:8080/",
     "height": 35
    },
    "id": "YMAzvuCWmt0s",
    "outputId": "0ae39d27-d3ba-4419-d503-2857ab99a1c7"
   },
   "outputs": [
    {
     "data": {
      "text/plain": [
       "'coronaviru diseas caus bacterium turn caus thrombosi moreov bacteria get stronger influenc g wave'"
      ]
     },
     "execution_count": 29,
     "metadata": {},
     "output_type": "execute_result"
    }
   ],
   "source": [
    "review = re.sub('[^a-zA-Z]', ' ', fake['text'][520])\n",
    "review = review.lower()\n",
    "review = review.split()\n",
    "    \n",
    "review = [ps.stem(word) for word in review if not word in stopwords.words('english')]\n",
    "review = ' '.join(review)\n",
    "review"
   ]
  },
  {
   "cell_type": "code",
   "execution_count": 30,
   "metadata": {
    "id": "L93mcglZm9cY"
   },
   "outputs": [],
   "source": [
    "val = tfidf_v.transform([review]).toarray()"
   ]
  },
  {
   "cell_type": "code",
   "execution_count": 31,
   "metadata": {
    "colab": {
     "base_uri": "https://localhost:8080/"
    },
    "id": "HxZvgnW2m9zD",
    "outputId": "82a3b102-a031-4a96-9934-60d1a3a1929f"
   },
   "outputs": [
    {
     "data": {
      "text/plain": [
       "array([0], dtype=int64)"
      ]
     },
     "execution_count": 31,
     "metadata": {},
     "output_type": "execute_result"
    }
   ],
   "source": [
    "passiveAgg.predict(val)"
   ]
  },
  {
   "cell_type": "markdown",
   "metadata": {
    "id": "F5dP0fMPq10m"
   },
   "source": [
    "**Save model and vectorizer**"
   ]
  },
  {
   "cell_type": "code",
   "execution_count": 32,
   "metadata": {
    "id": "A0yYvoI8oGb3"
   },
   "outputs": [],
   "source": [
    "import pickle"
   ]
  },
  {
   "cell_type": "code",
   "execution_count": 33,
   "metadata": {
    "id": "dalF5NoAq8ai"
   },
   "outputs": [],
   "source": [
    "pickle.dump(passiveAgg, open('model2.pkl', 'wb'))"
   ]
  },
  {
   "cell_type": "markdown",
   "metadata": {
    "id": "iehsIwZlzKS2"
   },
   "source": []
  },
  {
   "cell_type": "code",
   "execution_count": 34,
   "metadata": {
    "id": "pW6nsY_Kq_1j"
   },
   "outputs": [],
   "source": [
    "pickle.dump(tfidf_v, open('tfidfvect2.pkl', 'wb'))"
   ]
  },
  {
   "cell_type": "markdown",
   "metadata": {
    "id": "h4-qv7WtrGKX"
   },
   "source": [
    "**Load model and vectorizer to predict the previous datapoint**"
   ]
  },
  {
   "cell_type": "code",
   "execution_count": 35,
   "metadata": {
    "id": "7oHCC2JXrDvZ"
   },
   "outputs": [],
   "source": [
    "joblib_model = pickle.load(open('model2.pkl', 'rb'))"
   ]
  },
  {
   "cell_type": "code",
   "execution_count": 36,
   "metadata": {
    "id": "2Aqp3DCurOji"
   },
   "outputs": [],
   "source": [
    "joblib_vect = pickle.load(open('tfidfvect2.pkl', 'rb'))"
   ]
  },
  {
   "cell_type": "code",
   "execution_count": 37,
   "metadata": {
    "id": "SqPDmHedrVbb"
   },
   "outputs": [],
   "source": [
    "val_pkl = joblib_vect.transform([review]).toarray()"
   ]
  },
  {
   "cell_type": "code",
   "execution_count": 38,
   "metadata": {
    "colab": {
     "base_uri": "https://localhost:8080/"
    },
    "id": "m4NjV3XhrbOK",
    "outputId": "7b7eaf9f-4a4b-46d3-8176-76c179e0cda1"
   },
   "outputs": [
    {
     "data": {
      "text/plain": [
       "array([0], dtype=int64)"
      ]
     },
     "execution_count": 38,
     "metadata": {},
     "output_type": "execute_result"
    }
   ],
   "source": [
    "joblib_model.predict(val_pkl)"
   ]
  },
  {
   "cell_type": "code",
   "execution_count": null,
   "metadata": {},
   "outputs": [],
   "source": []
  }
 ],
 "metadata": {
  "colab": {
   "authorship_tag": "ABX9TyNCsN+wy/JqnYWWGw6Y10ce",
   "include_colab_link": true,
   "name": "Fake news detection.ipynb",
   "provenance": []
  },
  "kernelspec": {
   "display_name": "Python 3",
   "language": "python",
   "name": "python3"
  },
  "language_info": {
   "codemirror_mode": {
    "name": "ipython",
    "version": 3
   },
   "file_extension": ".py",
   "mimetype": "text/x-python",
   "name": "python",
   "nbconvert_exporter": "python",
   "pygments_lexer": "ipython3",
   "version": "3.7.4"
  }
 },
 "nbformat": 4,
 "nbformat_minor": 1
}
